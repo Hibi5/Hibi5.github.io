{
  "nbformat": 4,
  "nbformat_minor": 0,
  "metadata": {
    "colab": {
      "name": "4-3-2-3.ipynb",
      "provenance": [],
      "authorship_tag": "ABX9TyNJpFq2RdWUzhXoGETjIT+q"
    },
    "kernelspec": {
      "name": "python3",
      "display_name": "Python 3"
    },
    "language_info": {
      "name": "python"
    }
  },
  "cells": [
    {
      "cell_type": "code",
      "execution_count": null,
      "metadata": {
        "colab": {
          "base_uri": "https://localhost:8080/"
        },
        "id": "bZw_CMXStgki",
        "outputId": "a79c2740-cc2c-44fa-8513-50abf5ff6ebd"
      },
      "outputs": [
        {
          "output_type": "stream",
          "name": "stdout",
          "text": [
            "予測: [87640. 88360. 37000. 60000. 42520. 43480.]\n",
            "実際: [87000 89000 37000 60000 43000 43000]\n"
          ]
        }
      ],
      "source": [
        "import pandas as pd\n",
        "from sklearn.linear_model import LinearRegression\n",
        "df = pd.read_csv(\"immovables.csv\")\n",
        "lr = LinearRegression()\n",
        "y = df[\"賃料\"]\n",
        "x = df.drop(\"賃料\", axis=1)\n",
        "lr.fit(x, y)\n",
        "print(\"予測:\", lr.predict(x))\n",
        "print(\"実際:\", y.to_numpy())"
      ]
    }
  ]
}