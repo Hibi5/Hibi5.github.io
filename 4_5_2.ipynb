{
  "nbformat": 4,
  "nbformat_minor": 0,
  "metadata": {
    "colab": {
      "name": "4-5-2.ipynb",
      "provenance": [],
      "authorship_tag": "ABX9TyPLMs2GMUbc0/KXPBT23Crf"
    },
    "kernelspec": {
      "name": "python3",
      "display_name": "Python 3"
    },
    "language_info": {
      "name": "python"
    }
  },
  "cells": [
    {
      "cell_type": "code",
      "execution_count": 1,
      "metadata": {
        "id": "72r6_L8aaEuV",
        "colab": {
          "base_uri": "https://localhost:8080/"
        },
        "outputId": "9965a555-68be-4ba0-e7af-8f86b5446a51"
      },
      "outputs": [
        {
          "output_type": "execute_result",
          "data": {
            "text/plain": [
              "KMeans(n_clusters=2, random_state=0)"
            ]
          },
          "metadata": {},
          "execution_count": 1
        }
      ],
      "source": [
        "import pandas as pd\n",
        "from sklearn.cluster import KMeans\n",
        "df = pd.read_csv(\"temperature.csv\")\n",
        "km = KMeans(n_clusters=2, random_state=0)\n",
        "km.fit(df.drop(\"地域\", axis=1))"
      ]
    }
  ]
}