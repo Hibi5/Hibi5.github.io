{
  "nbformat": 4,
  "nbformat_minor": 0,
  "metadata": {
    "colab": {
      "name": "4-4-2-2.ipynb",
      "provenance": [],
      "authorship_tag": "ABX9TyPyE4LXH6I1oqzX9TTjUhs6"
    },
    "kernelspec": {
      "name": "python3",
      "display_name": "Python 3"
    },
    "language_info": {
      "name": "python"
    }
  },
  "cells": [
    {
      "cell_type": "code",
      "execution_count": 1,
      "metadata": {
        "colab": {
          "base_uri": "https://localhost:8080/"
        },
        "id": "nWy8Mgwmv98d",
        "outputId": "6dc2640b-1b4f-4111-acbe-c0574f8010ed"
      },
      "outputs": [
        {
          "output_type": "execute_result",
          "data": {
            "text/plain": [
              "NearestNeighbors()"
            ]
          },
          "metadata": {},
          "execution_count": 1
        }
      ],
      "source": [
        "import pandas as pd\n",
        "from sklearn.neighbors import NearestNeighbors\n",
        "df = pd.read_csv(\"drink.csv\")\n",
        "pivot = df.pivot(index=\"飲み物名\",\n",
        "                 columns=\"ユーザーID\",\n",
        "                 values=\"評価値\")\n",
        "knn = NearestNeighbors()\n",
        "knn.fit(pivot)"
      ]
    }
  ]
}