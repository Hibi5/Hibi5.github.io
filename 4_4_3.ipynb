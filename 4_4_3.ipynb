{
  "nbformat": 4,
  "nbformat_minor": 0,
  "metadata": {
    "colab": {
      "name": "4-4-3.ipynb",
      "provenance": [],
      "authorship_tag": "ABX9TyMtDsvshB7JFVAS2xHw7ccQ",
      "include_colab_link": true
    },
    "kernelspec": {
      "name": "python3",
      "display_name": "Python 3"
    },
    "language_info": {
      "name": "python"
    }
  },
  "cells": [
    {
      "cell_type": "markdown",
      "metadata": {
        "id": "view-in-github",
        "colab_type": "text"
      },
      "source": [
        "<a href=\"https://colab.research.google.com/github/Hibi5/Hibi5.github.io/blob/master/4_4_3.ipynb\" target=\"_parent\"><img src=\"https://colab.research.google.com/assets/colab-badge.svg\" alt=\"Open In Colab\"/></a>"
      ]
    },
    {
      "cell_type": "code",
      "execution_count": 3,
      "metadata": {
        "colab": {
          "base_uri": "https://localhost:8080/"
        },
        "id": "zvjC7bI9zFLO",
        "outputId": "767ac565-80b8-4530-9047-9e151b75e73b"
      },
      "outputs": [
        {
          "output_type": "stream",
          "name": "stdout",
          "text": [
            "コーヒーが好きな人へのへのおすすめは・・・紅茶\n"
          ]
        }
      ],
      "source": [
        "import pandas as pd\n",
        "from sklearn.neighbors import NearestNeighbors\n",
        "df = pd.read_csv(\"drink.csv\")\n",
        "pivot = df.pivot(index=\"飲み物名\",\n",
        "                 columns=\"ユーザーID\",\n",
        "                 values=\"評価値\")\n",
        "knn = NearestNeighbors()\n",
        "knn.fit(pivot)\n",
        "coffee_id = 1\n",
        "indice = knn.kneighbors(pivot, return_distance=False)\n",
        "rec_id = indice[coffee_id][1]\n",
        "print(\"コーヒーが好きな人へのへのおすすめは・・・\" + pivot.index.to_numpy()[rec_id])"
      ]
    }
  ]
}